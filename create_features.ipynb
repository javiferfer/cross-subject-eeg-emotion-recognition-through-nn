{
 "cells": [
  {
   "cell_type": "code",
   "execution_count": null,
   "metadata": {},
   "outputs": [],
   "source": [
    "import glob\n",
    "import numpy as np\n",
    "\n",
    "import scipy.io as sio\n",
    "\n",
    "%load_ext autoreload\n",
    "%autoreload 1"
   ]
  },
  {
   "cell_type": "code",
   "execution_count": null,
   "metadata": {},
   "outputs": [],
   "source": [
    "from src.feat_extraction import bandpower_welch, bandpower_multitaper, bandpower_de"
   ]
  },
  {
   "cell_type": "code",
   "execution_count": null,
   "metadata": {},
   "outputs": [],
   "source": [
    "no_sessions = 3\n",
    "no_participants = 15\n",
    "no_videos = 15\n",
    "no_channels = 62\n",
    "frequency = 200"
   ]
  },
  {
   "cell_type": "markdown",
   "metadata": {},
   "source": [
    "## Create features"
   ]
  },
  {
   "cell_type": "code",
   "execution_count": null,
   "metadata": {},
   "outputs": [],
   "source": [
    "files_session = []\n",
    "files_session = glob.glob(\"./data/dataset/SEED/Preprocessed_EEG/*.mat\")\n",
    "\n",
    "print(np.shape(files_session))\n",
    "\n",
    "files_session = sorted(files_session)\n",
    "files_session = np.concatenate((files_session[6*no_sessions:], files_session[:6*no_sessions]))"
   ]
  },
  {
   "cell_type": "markdown",
   "metadata": {},
   "source": [
    "#### Absolute"
   ]
  },
  {
   "cell_type": "code",
   "execution_count": null,
   "metadata": {},
   "outputs": [],
   "source": [
    "# Window length\n",
    "win_sec = 0.5\n",
    "\n",
    "def search(myDict, lookup):\n",
    "    for key, value in myDict.items():\n",
    "        if str.find(key, lookup) != -1:\n",
    "            return(key)\n",
    "\n",
    "bandpower_SEED_welch = []\n",
    "for i in range(no_sessions*no_participants):\n",
    "    mat = sio.loadmat(files_session[i], verify_compressed_data_integrity=False)\n",
    "    for j in range(no_videos):\n",
    "        key = search(mat, '_eeg'+str(j+1))\n",
    "        input_brainwaves = mat[key]\n",
    "        input_brainwaves = np.array(input_brainwaves)\n",
    "        bands_video = []\n",
    "        for k in range(no_channels):\n",
    "            bands_video.append(bandpower_welch(input_brainwaves[k,:], sf=frequency, method='welch',\n",
    "                                               band=[4, 7], window_sec=win_sec, relative=False))\n",
    "            bands_video.append(bandpower_welch(input_brainwaves[k,:], sf=frequency, method='welch',\n",
    "                                               band=[8, 13], window_sec=win_sec, relative=False))\n",
    "            bands_video.append(bandpower_welch(input_brainwaves[k,:], sf=frequency, method='welch',\n",
    "                                               band=[14, 30], window_sec=win_sec, relative=False))\n",
    "            bands_video.append(bandpower_welch(input_brainwaves[k,:], sf=frequency, method='welch',\n",
    "                                               band=[31, 50], window_sec=win_sec, relative=False))\n",
    "        bandpower_SEED_welch.append(bands_video)\n",
    "    print(i, np.shape(bandpower_SEED_welch))\n",
    "    \n",
    "bandpower_SEED_welch = np.array(bandpower_SEED_welch)\n",
    "print(bandpower_SEED_welch.shape)\n",
    "np.save('./data/bandpower_SEED_welch', bandpower_SEED_welch)"
   ]
  },
  {
   "cell_type": "markdown",
   "metadata": {},
   "source": [
    "#### Multitaper"
   ]
  },
  {
   "cell_type": "code",
   "execution_count": null,
   "metadata": {},
   "outputs": [],
   "source": [
    "def search(myDict, lookup):\n",
    "    for key, value in myDict.items():\n",
    "        if str.find(key, lookup) is not -1:\n",
    "            return(key)\n",
    "\n",
    "bandpower_SEED_welch = []\n",
    "for i in range(no_sessions*no_participants):\n",
    "    mat = sio.loadmat(files_session[i], verify_compressed_data_integrity=False)\n",
    "    for j in range(no_videos):\n",
    "        key = search(mat, '_eeg'+str(j+1))\n",
    "        input_brainwaves = mat[key]\n",
    "        input_brainwaves = np.array(input_brainwaves)\n",
    "        bands_video = []\n",
    "        for k in range(no_channels):\n",
    "            bands_video.append(bandpower_multitaper(input_brainwaves[k,:], sf=frequency, method='multitaper',\n",
    "                                                    band=[4, 7], relative=False))\n",
    "            bands_video.append(bandpower_multitaper(input_brainwaves[k,:], sf=frequency, method='multitaper',\n",
    "                                                    band=[8, 13], relative=False))\n",
    "            bands_video.append(bandpower_multitaper(input_brainwaves[k,:], sf=frequency, method='multitaper',\n",
    "                                                    band=[14, 30], relative=False))\n",
    "            bands_video.append(bandpower_multitaper(input_brainwaves[k,:], sf=frequency, method='multitaper',\n",
    "                                                    band=[31, 50], relative=False))\n",
    "               \n",
    "        bandpower_SEED_welch.append(bands_video)\n",
    "    print(i, np.shape(bandpower_SEED_welch))\n",
    "    np.save('./data/bandpower_SEED_multitaper', np.array(bandpower_SEED_welch))\n",
    "\n",
    "bandpower_SEED_welch = np.array(bandpower_SEED_welch)\n",
    "print(bandpower_SEED_welch.shape)\n",
    "np.save('./data/bandpower_SEED_multitaper', bandpower_SEED_welch)"
   ]
  },
  {
   "cell_type": "markdown",
   "metadata": {},
   "source": [
    "#### Differential entropy"
   ]
  },
  {
   "cell_type": "code",
   "execution_count": null,
   "metadata": {},
   "outputs": [],
   "source": [
    "def search(myDict, lookup):\n",
    "    for key, value in myDict.items():\n",
    "        if str.find(key, lookup) is not -1:\n",
    "            return(key)\n",
    "\n",
    "bandpower_SEED_de = []\n",
    "for i in range(no_sessions*no_participants):\n",
    "    mat = sio.loadmat(files_session[i], verify_compressed_data_integrity=False)\n",
    "    for j in range(no_videos):\n",
    "        key = search(mat, '_eeg'+str(j+1))\n",
    "        input_brainwaves = mat[key]\n",
    "        input_brainwaves = np.array(input_brainwaves)\n",
    "        bands_video = []\n",
    "        for k in range(no_channels):\n",
    "            bands_video.append(bandpower_de(input_brainwaves[k,:], sf=frequency, method='de',\n",
    "                                            band=[4, 7], relative=False))\n",
    "            bands_video.append(bandpower_de(input_brainwaves[k,:], sf=frequency, method='de',\n",
    "                                            band=[8, 13], relative=False))\n",
    "            bands_video.append(bandpower_de(input_brainwaves[k,:], sf=frequency, method='de',\n",
    "                                            band=[14, 30], relative=False))\n",
    "            bands_video.append(bandpower_de(input_brainwaves[k,:], sf=frequency, method='de',\n",
    "                                            band=[31, 50], relative=False))\n",
    "               \n",
    "        bandpower_SEED_de.append(bands_video)\n",
    "    print(i, np.shape(bandpower_SEED_de))\n",
    "    np.save('./data/bandpower_SEED_de', np.array(bandpower_SEED_de))\n",
    "    \n",
    "bandpower_SEED_de = np.array(bandpower_SEED_de)\n",
    "print(bandpower_SEED_de.shape)\n",
    "np.save('./data/bandpower_SEED_de', bandpower_SEED_de)"
   ]
  },
  {
   "cell_type": "code",
   "execution_count": null,
   "metadata": {},
   "outputs": [],
   "source": []
  },
  {
   "cell_type": "code",
   "execution_count": null,
   "metadata": {},
   "outputs": [],
   "source": []
  }
 ],
 "metadata": {
  "accelerator": "GPU",
  "colab": {
   "collapsed_sections": [],
   "name": "DEAP_main",
   "provenance": [],
   "toc_visible": true
  },
  "kernelspec": {
   "display_name": "Python 3 (ipykernel)",
   "language": "python",
   "name": "python3"
  },
  "language_info": {
   "codemirror_mode": {
    "name": "ipython",
    "version": 3
   },
   "file_extension": ".py",
   "mimetype": "text/x-python",
   "name": "python",
   "nbconvert_exporter": "python",
   "pygments_lexer": "ipython3",
   "version": "3.8.11"
  }
 },
 "nbformat": 4,
 "nbformat_minor": 1
}
